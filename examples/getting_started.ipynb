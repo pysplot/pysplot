{
 "cells": [
  {
   "cell_type": "markdown",
   "metadata": {},
   "source": [
    "# Getting Started\n",
    "\n",
    "This notebook is to help new users get started with using the `pysplot` python package for spatiotemporal plotting.\n",
    "We will run through examples of how to retrieve spatial and science data and combine it into an object that will be suitable for `pysplot` plotting."
   ]
  },
  {
   "cell_type": "code",
   "execution_count": 1,
   "metadata": {},
   "outputs": [],
   "source": [
    "## install if not present\n",
    "### !pip install cdasws"
   ]
  },
  {
   "cell_type": "code",
   "execution_count": null,
   "metadata": {},
   "outputs": [],
   "source": [
    "from sunpy.coordinates import GeocentricSolarEcliptic, GeocentricEarthEquatorial\n",
    "from astropy.coordinates import ITRS\n",
    "import astropy.units as u\n",
    "from cdasws import CdasWs, TimeInterval\n",
    "from cdasws.datarepresentation import DataRepresentation as dr\n",
    "\n",
    "from pysplot.io.data import SpatialData, ScienceData, SpatialTimeData"
   ]
  },
  {
   "cell_type": "markdown",
   "metadata": {},
   "source": [
    "## Step 1: Create SpatialData and ScienceData object\n",
    "\n",
    "Here we will step through an example of splotting MMS data for one month.\n",
    "\n",
    "#### SpatialData\n",
    "SpatialData is an object containing information on the location of the spacecraft.\n",
    "SpatialData expects data to be fed in with a dictionary where 'x' is a list of epochs in datetime format and 'y' contains the values.\n",
    "If you use `pyspedas` to retrieve the data, the data will output in the correct format if the keyword `notplot=True`. Otherwise, you could read in the data however you like and make sure the input dictionary contains 'x' and 'y' in the same format. In this example, we use the `cdasws` package to stream data directly from CDAWeb. \n",
    "\n",
    "Splot data objects, like `SpatialData`, is designed work with `sunpy` and `astropy`, especially the coordinate frames and units. Though not required to initialize splot data with coordinate frames or units, it will make transforming between coordinates or unit quantities much easier."
   ]
  },
  {
   "cell_type": "code",
   "execution_count": 3,
   "metadata": {},
   "outputs": [
    {
     "data": {
      "text/plain": [
       "{'x': array(['2020-01-01T00:00:00.000000000', '2020-01-01T00:00:30.000000000',\n",
       "        '2020-01-01T00:01:00.000000000', ...,\n",
       "        '2020-01-04T23:59:00.000000000', '2020-01-04T23:59:30.000000000',\n",
       "        '2020-01-05T00:00:00.000000000'], dtype='datetime64[ns]'),\n",
       " 'y': array([[-103022.14797985,  -22630.7481424 ,    6293.65967293],\n",
       "        [-103114.89881914,  -22439.35411279,    6286.36814742],\n",
       "        [-103207.2737431 ,  -22247.65570303,    6279.07470234],\n",
       "        ...,\n",
       "        [-146106.8419048 ,  -55165.44524281,   -4892.73738136],\n",
       "        [-146244.03003486,  -54869.43150151,   -4900.51379811],\n",
       "        [-146380.60842783,  -54573.07637966,   -4908.28976271]])}"
      ]
     },
     "execution_count": 3,
     "metadata": {},
     "output_type": "execute_result"
    }
   ],
   "source": [
    "cdas = CdasWs()\n",
    "_, mms_mec_data = cdas.get_data(\"MMS1_MEC_SRVY_L2_EPHT89Q\", [\"mms1_mec_r_geo\"], TimeInterval('2020-01-01', '2020-01-05'), dataRepresentation = dr.XARRAY)\n",
    "spatial_data = {'x': mms_mec_data['Epoch'].values, 'y': mms_mec_data['mms1_mec_r_geo'].values}\n",
    "spatial_data"
   ]
  },
  {
   "cell_type": "code",
   "execution_count": 4,
   "metadata": {},
   "outputs": [
    {
     "name": "stdout",
     "output_type": "stream",
     "text": [
      "                           x_r_geo       y_r_geo      z_r_geo\n",
      "2020-01-01 00:00:00 -103022.147980 -22630.748142  6293.659673\n",
      "2020-01-01 00:00:30 -103114.898819 -22439.354113  6286.368147\n",
      "2020-01-01 00:01:00 -103207.273743 -22247.655703  6279.074702\n",
      "2020-01-01 00:01:30 -103299.271825 -22055.653658  6271.779326\n",
      "2020-01-01 00:02:00 -103390.892258 -21863.348797  6264.482051\n",
      "2020-01-01 00:02:30 -103482.134260 -21670.741971  6257.182879\n",
      "2020-01-01 00:03:00 -103572.996908 -21477.833917  6249.881817\n",
      "2020-01-01 00:03:30 -103663.479339 -21284.625433  6242.578875\n",
      "2020-01-01 00:04:00 -103753.580509 -21091.117304  6235.274052\n",
      "2020-01-01 00:04:30 -103843.299833 -20897.310501  6227.967312\n",
      "coordinates <class 'astropy.coordinates.builtin_frames.itrs.ITRS'>\n",
      "units km\n"
     ]
    }
   ],
   "source": [
    "spatial_data_obj = SpatialData(spatial_data, coord=ITRS, units=u.km, spatial_columns_names=['x_r_geo', 'y_r_geo', 'z_r_geo'], coord_kwargs={'representation_type':'cartesian'})\n",
    "print(spatial_data_obj.data.head(10))\n",
    "print('coordinates', spatial_data_obj.coord)\n",
    "print('units', spatial_data_obj.units)"
   ]
  },
  {
   "cell_type": "markdown",
   "metadata": {},
   "source": [
    "#### Science Data\n",
    "\n",
    "Most of the time, you also want to consider some scientific data to go along with the spatial data for plotting. Here's how you would initialize the `ScienceData` object, similar to `SpatialData`.\n",
    "\n",
    "We'll pull magnetic field from the MMS FGM instrument for the same time period and initialize our `ScienceData` object."
   ]
  },
  {
   "cell_type": "code",
   "execution_count": 5,
   "metadata": {},
   "outputs": [
    {
     "data": {
      "text/plain": [
       "{'x': array(['2020-01-01T00:00:00.023849411', '2020-01-01T00:00:00.086350301',\n",
       "        '2020-01-01T00:00:00.148851190', ...,\n",
       "        '2020-01-04T23:59:59.644811973', '2020-01-04T23:59:59.769813750',\n",
       "        '2020-01-04T23:59:59.894815527'], dtype='datetime64[ns]'),\n",
       " 'y': array([[  1.2351352 ,  15.014284  , -18.71197   ,  24.02274   ],\n",
       "        [  1.1890574 ,  14.771348  , -18.227575  ,  23.49151   ],\n",
       "        [  1.0073503 ,  14.434054  , -17.547987  ,  22.743977  ],\n",
       "        ...,\n",
       "        [  2.5222871 ,  -8.7770815 ,  -0.60825026,   9.152543  ],\n",
       "        [  2.523703  ,  -8.787683  ,  -0.6247372 ,   9.164209  ],\n",
       "        [  2.5143878 ,  -8.772815  ,  -0.6341995 ,   9.14804   ]],\n",
       "       dtype=float32)}"
      ]
     },
     "execution_count": 5,
     "metadata": {},
     "output_type": "execute_result"
    }
   ],
   "source": [
    "_, mms_fgm_data = cdas.get_data(\"MMS1_FGM_SRVY_L2\", [\"mms1_fgm_b_gse_srvy_l2\"], TimeInterval('2020-01-01', '2020-01-05'), dataRepresentation = dr.XARRAY)\n",
    "science_data = {'x': mms_fgm_data['Epoch'].values, 'y':mms_fgm_data['mms1_fgm_b_gse_srvy_l2'].values}\n",
    "science_data\n"
   ]
  },
  {
   "cell_type": "code",
   "execution_count": 6,
   "metadata": {},
   "outputs": [
    {
     "name": "stdout",
     "output_type": "stream",
     "text": [
      "                                 Bx_GSE     By_GSE     Bz_GSE         Bt\n",
      "2020-01-01 00:00:00.023849411  1.235135  15.014284 -18.711969  24.022739\n",
      "2020-01-01 00:00:00.086350301  1.189057  14.771348 -18.227575  23.491510\n",
      "2020-01-01 00:00:00.148851190  1.007350  14.434054 -17.547987  22.743977\n",
      "2020-01-01 00:00:00.211352080  0.796693  14.379056 -17.011660  22.288754\n",
      "2020-01-01 00:00:00.273852969  0.971681  14.440439 -16.555071  21.989561\n",
      "2020-01-01 00:00:00.336353859  1.298611  14.549273 -15.875175  21.572874\n",
      "2020-01-01 00:00:00.398854748  1.292696  14.098995 -16.087919  21.430676\n",
      "2020-01-01 00:00:00.461355638  1.083263  14.143856 -16.240618  21.563391\n",
      "2020-01-01 00:00:00.523856527  1.394914  14.089476 -17.809347  22.751526\n",
      "2020-01-01 00:00:00.586357416  1.861095  13.564971 -18.790823  23.250099\n",
      "units 1e-09 T\n"
     ]
    }
   ],
   "source": [
    "science_data_obj = ScienceData(science_data, units=1e-9*u.T, science_columns_names=['Bx_GSE', 'By_GSE', 'Bz_GSE', 'Bt'])\n",
    "print(science_data_obj.data.head(10))\n",
    "print('units', science_data_obj.units)"
   ]
  },
  {
   "cell_type": "markdown",
   "metadata": {},
   "source": [
    "#### Create the combined data object, `SpatialTimeData`\n",
    "\n",
    "Now that you have both `SpatialData` and `ScienceData` initialized, you can combine them into an object for splotting (`SpatialTimeData`).\n",
    "\n",
    "The spatial data was in GEO coordinates; however the science data was pulled in GSE coordinates. To rectify that, we can convert the spatial data to GSE to match the science data by with the `desired_coord` argument.\n",
    "\n",
    "During the intialization of `SpatialTimeData`, you can also specify the data cadence to match the temporal cadence of the spatial and science data objects. If specified, the data will be resampled and combined with the specified `data_cadence` and `combine_method`. If `data_cadence` is not specified, the combined data will take on the temporal cadence of the science data and the spatial data will be interpolated to match. \n"
   ]
  },
  {
   "cell_type": "code",
   "execution_count": 7,
   "metadata": {},
   "outputs": [
    {
     "name": "stderr",
     "output_type": "stream",
     "text": [
      "/Users/mow1/projects/pysplot/whpitest/lib/python3.9/site-packages/pysplot/io/data_helpers.py:463: FutureWarning: The provided callable <function nanmean at 0x7f87101d44c0> is currently using DatetimeIndexResampler.mean. In a future version of pandas, the provided callable will be used directly. To keep current behavior pass the string \"mean\" instead.\n",
      "  merged_data = merged_data.resample(data_cadence).apply(combine_method_function)\n"
     ]
    },
    {
     "name": "stdout",
     "output_type": "stream",
     "text": [
      "                                x             y             z    Bx_GSE  \\\n",
      "2020-01-01 00:00:00  92619.877167  24673.647720  44534.181641 -2.423322   \n",
      "2020-01-01 00:01:00  92706.571254  24740.953417  44550.000876 -3.717061   \n",
      "2020-01-01 00:02:00  92793.154582  24808.226995  44565.766032 -3.018241   \n",
      "2020-01-01 00:03:00  92879.627570  24875.468497  44581.477378 -3.549953   \n",
      "2020-01-01 00:04:00  92965.990168  24942.677820  44597.134929 -3.162446   \n",
      "2020-01-01 00:05:00  93052.242819  25009.855177  44612.738866 -3.241481   \n",
      "2020-01-01 00:06:00  93138.385557  25077.000120  44628.289283 -3.004963   \n",
      "2020-01-01 00:07:00  93224.418665  25144.113335  44643.786297 -2.934352   \n",
      "2020-01-01 00:08:00  93310.342298  25211.194447  44659.230078 -2.928509   \n",
      "2020-01-01 00:09:00  93396.156677  25278.243521  44674.620706 -2.828686   \n",
      "\n",
      "                       By_GSE    Bz_GSE         Bt  \n",
      "2020-01-01 00:00:00  6.699257 -4.964180  12.644825  \n",
      "2020-01-01 00:01:00  7.469730 -0.458758  11.803510  \n",
      "2020-01-01 00:02:00  3.933112 -0.648176   5.324870  \n",
      "2020-01-01 00:03:00  3.360010 -0.602684   5.059439  \n",
      "2020-01-01 00:04:00  2.958352 -1.157979   4.654480  \n",
      "2020-01-01 00:05:00  3.352660 -1.197061   4.923051  \n",
      "2020-01-01 00:06:00  3.118262 -0.875835   4.448194  \n",
      "2020-01-01 00:07:00  3.102699 -0.866001   4.391159  \n",
      "2020-01-01 00:08:00  2.907647 -0.997075   4.273842  \n",
      "2020-01-01 00:09:00  2.976753 -1.100050   4.278191  \n",
      "splot spatial columns Index(['x', 'y', 'z'], dtype='object')\n",
      "splot coord <class 'sunpy.coordinates.frames.GeocentricSolarEcliptic'>\n",
      "splot science columns Index(['Bx_GSE', 'By_GSE', 'Bz_GSE', 'Bt'], dtype='object')\n",
      "splot units 1e-09 T\n"
     ]
    }
   ],
   "source": [
    "splot_data_obj = SpatialTimeData(spatial_data_obj, science=science_data_obj, desired_science_units=1e-9*u.T, desired_coord=GeocentricSolarEcliptic, desired_coord_kwargs={'representation_type':'cartesian'}, data_cadence='1min')\n",
    "print(splot_data_obj.data.head(10))\n",
    "print('splot spatial columns', splot_data_obj.spatial_columns)\n",
    "print('splot coord', splot_data_obj.coord)\n",
    "print('splot science columns', splot_data_obj.science_columns)\n",
    "print('splot units', splot_data_obj.science_units)"
   ]
  },
  {
   "cell_type": "markdown",
   "metadata": {},
   "source": [
    "## Step 2: Spatiotemporal plotting using the SpatialTimeData object\n",
    "\n",
    "Now that the splot object is created, it contains a combined dataframe of spatial coordinates, in the requested spatial coordinate frame and units, and scientific values, in the requested units, presented on a matched, standardized cadence. This merged dataframe we can use to plot on a spatial and temporal regime."
   ]
  },
  {
   "cell_type": "code",
   "execution_count": 8,
   "metadata": {},
   "outputs": [],
   "source": [
    "from pysplot.plots.plottypes import orbit_plot, spatial_value_plot"
   ]
  },
  {
   "cell_type": "code",
   "execution_count": 9,
   "metadata": {},
   "outputs": [],
   "source": [
    "# create additional science \n",
    "\n",
    "dat = splot_data_obj.data\n",
    "R_E = 6378 #km\n",
    "for col in splot_data_obj.spatial_columns:\n",
    "    dat[f'r_{col}'] = dat[col]/R_E\n",
    "dat['radius'] = (dat['r_x']**2 + dat['r_y']**2 + dat['r_z']**2)**.5"
   ]
  },
  {
   "cell_type": "code",
   "execution_count": 10,
   "metadata": {},
   "outputs": [
    {
     "data": {
      "image/png": "[encoded data removed]",
      "text/plain": [
       "<Figure size 1600x500 with 3 Axes>"
      ]
     },
     "metadata": {},
     "output_type": "display_data"
    }
   ],
   "source": [
    "import matplotlib.pyplot as plt\n",
    "fig, ax = plt.subplots(nrows=1, ncols=3, figsize=(16,5))\n",
    "xy_ax = ax[0]\n",
    "orbit_plot(splot_data_obj.data, xy_ax, 'r_x', 'r_y')\n",
    "xy_ax.set_xlabel('X ($R_E$)')\n",
    "xy_ax.set_ylabel('Y ($R_E$)')\n",
    "xz_ax = ax[1]\n",
    "orbit_plot(splot_data_obj.data, xz_ax, 'r_x', 'r_z')\n",
    "xz_ax.set_xlabel('X ($R_E$)')\n",
    "xz_ax.set_ylabel('Z ($R_E$)')\n",
    "yz_ax = ax[2]\n",
    "orbit_plot(splot_data_obj.data, yz_ax, 'r_y', 'r_z', plotting_kwargs={'label': 'MMS1'})\n",
    "yz_ax.legend()\n",
    "yz_ax.set_xlabel('Y ($R_E$)')\n",
    "yz_ax.set_ylabel('Z ($R_E$)')\n",
    "\n",
    "for axes in ax:\n",
    "    axes.set_xlim(-5,25)\n",
    "    axes.set_ylim(-5,25)\n",
    "    circ = plt.Circle((0,0), 1, color='0.5')\n",
    "    axes.add_patch(circ)\n"
   ]
  },
  {
   "cell_type": "code",
   "execution_count": 11,
   "metadata": {},
   "outputs": [
    {
     "data": {
      "text/plain": [
       "(0.0, 5000.0)"
      ]
     },
     "execution_count": 11,
     "metadata": {},
     "output_type": "execute_result"
    },
    {
     "data": {
      "image/png": "[encoded data removed]",
      "text/plain": [
       "<Figure size 1000x300 with 1 Axes>"
      ]
     },
     "metadata": {},
     "output_type": "display_data"
    }
   ],
   "source": [
    "fig, ax = plt.subplots(nrows=1, ncols=1, figsize=(10,3))\n",
    "spatial_value_plot(splot_data_obj.data, ax, 'radius', 'Bt', plotting_kwargs={'marker':'.', 'ms':1, 'ls': 'None'})\n",
    "ax.set_xlabel('Distance from Earth ($R_E$)')\n",
    "ax.set_ylabel('$B_\\mathrm{total}$ (nT)')\n",
    "ax.set_xlim(0,27)\n",
    "ax.set_ylim(0,5000)"
   ]
  },
  {
   "cell_type": "markdown",
   "metadata": {},
   "source": [
    "#### Transform from one coordinate frame to another\n",
    "\n",
    "Since we used sunpy coordinate system to define the splot data spatial frame, we can use the underlying functionality of sunpy to transform the spatial coordinate from one frame to another. For example, we are currently in GeocentricSolarEcliptic with coordinate units in km, but we can transform the splot merged data to be presented in Geocentric Earth Equatorial (`GeocentricEarthEquatorial`) frame with lat/lon in degrees and distance in AU. Note that sunpy coordinate transformations can be very timely if the observing time is required to calculate the location of the Sun and Earth."
   ]
  },
  {
   "cell_type": "code",
   "execution_count": null,
   "metadata": {},
   "outputs": [
    {
     "name": "stdout",
     "output_type": "stream",
     "text": [
      "new coord: <class 'sunpy.coordinates.frames.GeocentricEarthEquatorial'>\n"
     ]
    },
    {
     "data": {
      "text/html": [
       "<div>\n",
       "<style scoped>\n",
       "    .dataframe tbody tr th:only-of-type {\n",
       "        vertical-align: middle;\n",
       "    }\n",
       "\n",
       "    .dataframe tbody tr th {\n",
       "        vertical-align: top;\n",
       "    }\n",
       "\n",
       "    .dataframe thead th {\n",
       "        text-align: right;\n",
       "    }\n",
       "</style>\n",
       "<table border=\"1\" class=\"dataframe\">\n",
       "  <thead>\n",
       "    <tr style=\"text-align: right;\">\n",
       "      <th></th>\n",
       "      <th>lon</th>\n",
       "      <th>lat</th>\n",
       "      <th>distance</th>\n",
       "      <th>Bx_GSE</th>\n",
       "      <th>By_GSE</th>\n",
       "      <th>Bz_GSE</th>\n",
       "      <th>Bt</th>\n",
       "      <th>r_x</th>\n",
       "      <th>r_y</th>\n",
       "      <th>r_z</th>\n",
       "      <th>radius</th>\n",
       "    </tr>\n",
       "  </thead>\n",
       "  <tbody>\n",
       "    <tr>\n",
       "      <th>2020-01-01 00:00:00</th>\n",
       "      <td>-67.727862</td>\n",
       "      <td>3.370016</td>\n",
       "      <td>0.000706</td>\n",
       "      <td>-2.423322</td>\n",
       "      <td>6.699257</td>\n",
       "      <td>-4.964180</td>\n",
       "      <td>12.644825</td>\n",
       "      <td>14.521774</td>\n",
       "      <td>3.868556</td>\n",
       "      <td>6.982468</td>\n",
       "      <td>16.571135</td>\n",
       "    </tr>\n",
       "    <tr>\n",
       "      <th>2020-01-01 00:01:00</th>\n",
       "      <td>-67.701825</td>\n",
       "      <td>3.358879</td>\n",
       "      <td>0.000707</td>\n",
       "      <td>-3.717061</td>\n",
       "      <td>7.469730</td>\n",
       "      <td>-0.458758</td>\n",
       "      <td>11.803510</td>\n",
       "      <td>14.535367</td>\n",
       "      <td>3.879108</td>\n",
       "      <td>6.984948</td>\n",
       "      <td>16.586557</td>\n",
       "    </tr>\n",
       "    <tr>\n",
       "      <th>2020-01-01 00:02:00</th>\n",
       "      <td>-67.675837</td>\n",
       "      <td>3.347763</td>\n",
       "      <td>0.000708</td>\n",
       "      <td>-3.018241</td>\n",
       "      <td>3.933112</td>\n",
       "      <td>-0.648176</td>\n",
       "      <td>5.324870</td>\n",
       "      <td>14.548942</td>\n",
       "      <td>3.889656</td>\n",
       "      <td>6.987420</td>\n",
       "      <td>16.601963</td>\n",
       "    </tr>\n",
       "    <tr>\n",
       "      <th>2020-01-01 00:03:00</th>\n",
       "      <td>-67.649897</td>\n",
       "      <td>3.336666</td>\n",
       "      <td>0.000708</td>\n",
       "      <td>-3.549953</td>\n",
       "      <td>3.360010</td>\n",
       "      <td>-0.602684</td>\n",
       "      <td>5.059439</td>\n",
       "      <td>14.562500</td>\n",
       "      <td>3.900199</td>\n",
       "      <td>6.989884</td>\n",
       "      <td>16.617354</td>\n",
       "    </tr>\n",
       "    <tr>\n",
       "      <th>2020-01-01 00:04:00</th>\n",
       "      <td>-67.624006</td>\n",
       "      <td>3.325589</td>\n",
       "      <td>0.000709</td>\n",
       "      <td>-3.162446</td>\n",
       "      <td>2.958352</td>\n",
       "      <td>-1.157979</td>\n",
       "      <td>4.654480</td>\n",
       "      <td>14.576041</td>\n",
       "      <td>3.910737</td>\n",
       "      <td>6.992338</td>\n",
       "      <td>16.632728</td>\n",
       "    </tr>\n",
       "    <tr>\n",
       "      <th>2020-01-01 00:05:00</th>\n",
       "      <td>-67.598164</td>\n",
       "      <td>3.314532</td>\n",
       "      <td>0.000710</td>\n",
       "      <td>-3.241481</td>\n",
       "      <td>3.352660</td>\n",
       "      <td>-1.197061</td>\n",
       "      <td>4.923051</td>\n",
       "      <td>14.589565</td>\n",
       "      <td>3.921269</td>\n",
       "      <td>6.994785</td>\n",
       "      <td>16.648086</td>\n",
       "    </tr>\n",
       "    <tr>\n",
       "      <th>2020-01-01 00:06:00</th>\n",
       "      <td>-67.572369</td>\n",
       "      <td>3.303495</td>\n",
       "      <td>0.000710</td>\n",
       "      <td>-3.004963</td>\n",
       "      <td>3.118262</td>\n",
       "      <td>-0.875835</td>\n",
       "      <td>4.448194</td>\n",
       "      <td>14.603071</td>\n",
       "      <td>3.931797</td>\n",
       "      <td>6.997223</td>\n",
       "      <td>16.663428</td>\n",
       "    </tr>\n",
       "    <tr>\n",
       "      <th>2020-01-01 00:07:00</th>\n",
       "      <td>-67.546623</td>\n",
       "      <td>3.292477</td>\n",
       "      <td>0.000711</td>\n",
       "      <td>-2.934352</td>\n",
       "      <td>3.102699</td>\n",
       "      <td>-0.866001</td>\n",
       "      <td>4.391159</td>\n",
       "      <td>14.616560</td>\n",
       "      <td>3.942319</td>\n",
       "      <td>6.999653</td>\n",
       "      <td>16.678754</td>\n",
       "    </tr>\n",
       "    <tr>\n",
       "      <th>2020-01-01 00:08:00</th>\n",
       "      <td>-67.520924</td>\n",
       "      <td>3.281479</td>\n",
       "      <td>0.000712</td>\n",
       "      <td>-2.928509</td>\n",
       "      <td>2.907647</td>\n",
       "      <td>-0.997075</td>\n",
       "      <td>4.273842</td>\n",
       "      <td>14.630032</td>\n",
       "      <td>3.952837</td>\n",
       "      <td>7.002074</td>\n",
       "      <td>16.694065</td>\n",
       "    </tr>\n",
       "    <tr>\n",
       "      <th>2020-01-01 00:09:00</th>\n",
       "      <td>-67.495273</td>\n",
       "      <td>3.270500</td>\n",
       "      <td>0.000712</td>\n",
       "      <td>-2.828686</td>\n",
       "      <td>2.976753</td>\n",
       "      <td>-1.100050</td>\n",
       "      <td>4.278191</td>\n",
       "      <td>14.643486</td>\n",
       "      <td>3.963350</td>\n",
       "      <td>7.004487</td>\n",
       "      <td>16.709359</td>\n",
       "    </tr>\n",
       "  </tbody>\n",
       "</table>\n",
       "</div>"
      ],
      "text/plain": [
       "                           lon       lat  distance    Bx_GSE    By_GSE  \\\n",
       "2020-01-01 00:00:00 -67.727862  3.370016  0.000706 -2.423322  6.699257   \n",
       "2020-01-01 00:01:00 -67.701825  3.358879  0.000707 -3.717061  7.469730   \n",
       "2020-01-01 00:02:00 -67.675837  3.347763  0.000708 -3.018241  3.933112   \n",
       "2020-01-01 00:03:00 -67.649897  3.336666  0.000708 -3.549953  3.360010   \n",
       "2020-01-01 00:04:00 -67.624006  3.325589  0.000709 -3.162446  2.958352   \n",
       "2020-01-01 00:05:00 -67.598164  3.314532  0.000710 -3.241481  3.352660   \n",
       "2020-01-01 00:06:00 -67.572369  3.303495  0.000710 -3.004963  3.118262   \n",
       "2020-01-01 00:07:00 -67.546623  3.292477  0.000711 -2.934352  3.102699   \n",
       "2020-01-01 00:08:00 -67.520924  3.281479  0.000712 -2.928509  2.907647   \n",
       "2020-01-01 00:09:00 -67.495273  3.270500  0.000712 -2.828686  2.976753   \n",
       "\n",
       "                       Bz_GSE         Bt        r_x       r_y       r_z  \\\n",
       "2020-01-01 00:00:00 -4.964180  12.644825  14.521774  3.868556  6.982468   \n",
       "2020-01-01 00:01:00 -0.458758  11.803510  14.535367  3.879108  6.984948   \n",
       "2020-01-01 00:02:00 -0.648176   5.324870  14.548942  3.889656  6.987420   \n",
       "2020-01-01 00:03:00 -0.602684   5.059439  14.562500  3.900199  6.989884   \n",
       "2020-01-01 00:04:00 -1.157979   4.654480  14.576041  3.910737  6.992338   \n",
       "2020-01-01 00:05:00 -1.197061   4.923051  14.589565  3.921269  6.994785   \n",
       "2020-01-01 00:06:00 -0.875835   4.448194  14.603071  3.931797  6.997223   \n",
       "2020-01-01 00:07:00 -0.866001   4.391159  14.616560  3.942319  6.999653   \n",
       "2020-01-01 00:08:00 -0.997075   4.273842  14.630032  3.952837  7.002074   \n",
       "2020-01-01 00:09:00 -1.100050   4.278191  14.643486  3.963350  7.004487   \n",
       "\n",
       "                        radius  \n",
       "2020-01-01 00:00:00  16.571135  \n",
       "2020-01-01 00:01:00  16.586557  \n",
       "2020-01-01 00:02:00  16.601963  \n",
       "2020-01-01 00:03:00  16.617354  \n",
       "2020-01-01 00:04:00  16.632728  \n",
       "2020-01-01 00:05:00  16.648086  \n",
       "2020-01-01 00:06:00  16.663428  \n",
       "2020-01-01 00:07:00  16.678754  \n",
       "2020-01-01 00:08:00  16.694065  \n",
       "2020-01-01 00:09:00  16.709359  "
      ]
     },
     "execution_count": 12,
     "metadata": {},
     "output_type": "execute_result"
    }
   ],
   "source": [
    "splot_data_obj.transform_coord(GeocentricEarthEquatorial, desired_units=[u.deg, u.deg, u.AU], desired_coord_kwargs={'representation_type':'spherical'})\n",
    "print('new coord:', splot_data_obj.coord)\n",
    "splot_data_obj.data.head(10)\n"
   ]
  },
  {
   "cell_type": "code",
   "execution_count": null,
   "metadata": {},
   "outputs": [],
   "source": []
  }
 ],
 "metadata": {
  "kernelspec": {
   "display_name": "whpitest",
   "language": "python",
   "name": "python3"
  },
  "language_info": {
   "codemirror_mode": {
    "name": "ipython",
    "version": 3
   },
   "file_extension": ".py",
   "mimetype": "text/x-python",
   "name": "python",
   "nbconvert_exporter": "python",
   "pygments_lexer": "ipython3",
   "version": "3.9.12"
  }
 },
 "nbformat": 4,
 "nbformat_minor": 2
}
