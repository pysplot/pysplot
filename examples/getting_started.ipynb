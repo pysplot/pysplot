{
 "cells": [
  {
   "cell_type": "markdown",
   "metadata": {},
   "source": [
    "# Getting Started\n",
    "\n",
    "This notebook is to help new users get started with using the `pysplot` python package for spatiotemporal plotting.\n",
    "We will run through examples of how to retrieve spatial and science data and combine it into an object that will be suitable for `pysplot` plotting."
   ]
  },
  {
   "cell_type": "code",
   "execution_count": null,
   "metadata": {},
   "outputs": [
    {
     "name": "stdout",
     "output_type": "stream",
     "text": [
      "Requirement already satisfied: pyspedas in /Users/mow1/projects/pysplot/testing/lib/python3.9/site-packages (1.7.1)\n",
      "Requirement already satisfied: numpy>=1.20.0 in /Users/mow1/projects/pysplot/testing/lib/python3.9/site-packages (from pyspedas) (1.26.4)\n",
      "Requirement already satisfied: requests in /Users/mow1/projects/pysplot/testing/lib/python3.9/site-packages (from pyspedas) (2.32.3)\n",
      "Requirement already satisfied: geopack>=1.0.11 in /Users/mow1/projects/pysplot/testing/lib/python3.9/site-packages (from pyspedas) (1.0.11)\n",
      "Requirement already satisfied: scipy in /Users/mow1/projects/pysplot/testing/lib/python3.9/site-packages (from pyspedas) (1.13.1)\n",
      "Requirement already satisfied: cdflib in /Users/mow1/projects/pysplot/testing/lib/python3.9/site-packages (from pyspedas) (1.3.2)\n",
      "Requirement already satisfied: cdasws>=1.7.24 in /Users/mow1/projects/pysplot/testing/lib/python3.9/site-packages (from pyspedas) (1.8.9)\n",
      "Requirement already satisfied: netCDF4>=1.6.2 in /Users/mow1/projects/pysplot/testing/lib/python3.9/site-packages (from pyspedas) (1.7.2)\n",
      "Requirement already satisfied: pywavelets in /Users/mow1/projects/pysplot/testing/lib/python3.9/site-packages (from pyspedas) (1.6.0)\n",
      "Requirement already satisfied: astropy in /Users/mow1/projects/pysplot/testing/lib/python3.9/site-packages (from pyspedas) (6.0.1)\n",
      "Requirement already satisfied: hapiclient>=0.2.2 in /Users/mow1/projects/pysplot/testing/lib/python3.9/site-packages (from pyspedas) (0.2.6)\n",
      "Requirement already satisfied: pytplot-mpl-temp>=2.2.50 in /Users/mow1/projects/pysplot/testing/lib/python3.9/site-packages (from pyspedas) (2.2.51)\n",
      "Requirement already satisfied: viresclient in /Users/mow1/projects/pysplot/testing/lib/python3.9/site-packages (from pyspedas) (0.12.1)\n",
      "Requirement already satisfied: python-dateutil>=2.8.0 in /Users/mow1/projects/pysplot/testing/lib/python3.9/site-packages (from cdasws>=1.7.24->pyspedas) (2.9.0.post0)\n",
      "Requirement already satisfied: urllib3>=1.24.1 in /Users/mow1/projects/pysplot/testing/lib/python3.9/site-packages (from cdasws>=1.7.24->pyspedas) (2.3.0)\n",
      "Requirement already satisfied: isodate>=0.6.0 in /Users/mow1/projects/pysplot/testing/lib/python3.9/site-packages (from hapiclient>=0.2.2->pyspedas) (0.7.2)\n",
      "Requirement already satisfied: joblib in /Users/mow1/projects/pysplot/testing/lib/python3.9/site-packages (from hapiclient>=0.2.2->pyspedas) (1.4.2)\n",
      "Requirement already satisfied: pandas>=0.23 in /Users/mow1/projects/pysplot/testing/lib/python3.9/site-packages (from hapiclient>=0.2.2->pyspedas) (2.2.3)\n",
      "Requirement already satisfied: cftime in /Users/mow1/projects/pysplot/testing/lib/python3.9/site-packages (from netCDF4>=1.6.2->pyspedas) (1.6.4.post1)\n",
      "Requirement already satisfied: certifi in /Users/mow1/projects/pysplot/testing/lib/python3.9/site-packages (from netCDF4>=1.6.2->pyspedas) (2024.12.14)\n",
      "Requirement already satisfied: matplotlib>=3.6.2 in /Users/mow1/projects/pysplot/testing/lib/python3.9/site-packages (from pytplot-mpl-temp>=2.2.50->pyspedas) (3.9.4)\n",
      "Requirement already satisfied: xarray in /Users/mow1/projects/pysplot/testing/lib/python3.9/site-packages (from pytplot-mpl-temp>=2.2.50->pyspedas) (2024.7.0)\n",
      "Requirement already satisfied: charset-normalizer<4,>=2 in /Users/mow1/projects/pysplot/testing/lib/python3.9/site-packages (from requests->pyspedas) (3.4.1)\n",
      "Requirement already satisfied: idna<4,>=2.5 in /Users/mow1/projects/pysplot/testing/lib/python3.9/site-packages (from requests->pyspedas) (3.10)\n",
      "Requirement already satisfied: pyerfa>=2.0.1.1 in /Users/mow1/projects/pysplot/testing/lib/python3.9/site-packages (from astropy->pyspedas) (2.0.1.5)\n",
      "Requirement already satisfied: astropy-iers-data>=0.2024.2.26.0.28.55 in /Users/mow1/projects/pysplot/testing/lib/python3.9/site-packages (from astropy->pyspedas) (0.2025.1.13.0.34.51)\n",
      "Requirement already satisfied: PyYAML>=3.13 in /Users/mow1/projects/pysplot/testing/lib/python3.9/site-packages (from astropy->pyspedas) (6.0.2)\n",
      "Requirement already satisfied: packaging>=19.0 in /Users/mow1/projects/pysplot/testing/lib/python3.9/site-packages (from astropy->pyspedas) (24.2)\n",
      "Requirement already satisfied: Jinja2>=2.10 in /Users/mow1/projects/pysplot/testing/lib/python3.9/site-packages (from viresclient->pyspedas) (3.1.5)\n",
      "Requirement already satisfied: tables>=3.4.4 in /Users/mow1/projects/pysplot/testing/lib/python3.9/site-packages (from viresclient->pyspedas) (3.9.2)\n",
      "Requirement already satisfied: tqdm>=4.23.0 in /Users/mow1/projects/pysplot/testing/lib/python3.9/site-packages (from viresclient->pyspedas) (4.67.1)\n",
      "Requirement already satisfied: MarkupSafe>=2.0 in /Users/mow1/projects/pysplot/testing/lib/python3.9/site-packages (from Jinja2>=2.10->viresclient->pyspedas) (3.0.2)\n",
      "Requirement already satisfied: contourpy>=1.0.1 in /Users/mow1/projects/pysplot/testing/lib/python3.9/site-packages (from matplotlib>=3.6.2->pytplot-mpl-temp>=2.2.50->pyspedas) (1.3.0)\n",
      "Requirement already satisfied: cycler>=0.10 in /Users/mow1/projects/pysplot/testing/lib/python3.9/site-packages (from matplotlib>=3.6.2->pytplot-mpl-temp>=2.2.50->pyspedas) (0.12.1)\n",
      "Requirement already satisfied: fonttools>=4.22.0 in /Users/mow1/projects/pysplot/testing/lib/python3.9/site-packages (from matplotlib>=3.6.2->pytplot-mpl-temp>=2.2.50->pyspedas) (4.55.3)\n",
      "Requirement already satisfied: kiwisolver>=1.3.1 in /Users/mow1/projects/pysplot/testing/lib/python3.9/site-packages (from matplotlib>=3.6.2->pytplot-mpl-temp>=2.2.50->pyspedas) (1.4.7)\n",
      "Requirement already satisfied: pillow>=8 in /Users/mow1/projects/pysplot/testing/lib/python3.9/site-packages (from matplotlib>=3.6.2->pytplot-mpl-temp>=2.2.50->pyspedas) (11.1.0)\n",
      "Requirement already satisfied: pyparsing>=2.3.1 in /Users/mow1/projects/pysplot/testing/lib/python3.9/site-packages (from matplotlib>=3.6.2->pytplot-mpl-temp>=2.2.50->pyspedas) (3.2.1)\n",
      "Requirement already satisfied: importlib-resources>=3.2.0 in /Users/mow1/projects/pysplot/testing/lib/python3.9/site-packages (from matplotlib>=3.6.2->pytplot-mpl-temp>=2.2.50->pyspedas) (6.5.2)\n",
      "Requirement already satisfied: pytz>=2020.1 in /Users/mow1/projects/pysplot/testing/lib/python3.9/site-packages (from pandas>=0.23->hapiclient>=0.2.2->pyspedas) (2024.2)\n",
      "Requirement already satisfied: tzdata>=2022.7 in /Users/mow1/projects/pysplot/testing/lib/python3.9/site-packages (from pandas>=0.23->hapiclient>=0.2.2->pyspedas) (2024.2)\n",
      "Requirement already satisfied: six>=1.5 in /Users/mow1/projects/pysplot/testing/lib/python3.9/site-packages (from python-dateutil>=2.8.0->cdasws>=1.7.24->pyspedas) (1.17.0)\n",
      "Requirement already satisfied: numexpr>=2.6.2 in /Users/mow1/projects/pysplot/testing/lib/python3.9/site-packages (from tables>=3.4.4->viresclient->pyspedas) (2.10.2)\n",
      "Requirement already satisfied: py-cpuinfo in /Users/mow1/projects/pysplot/testing/lib/python3.9/site-packages (from tables>=3.4.4->viresclient->pyspedas) (9.0.0)\n",
      "Requirement already satisfied: blosc2>=2.3.0 in /Users/mow1/projects/pysplot/testing/lib/python3.9/site-packages (from tables>=3.4.4->viresclient->pyspedas) (2.5.1)\n",
      "Requirement already satisfied: ndindex>=1.4 in /Users/mow1/projects/pysplot/testing/lib/python3.9/site-packages (from blosc2>=2.3.0->tables>=3.4.4->viresclient->pyspedas) (1.9.2)\n",
      "Requirement already satisfied: msgpack in /Users/mow1/projects/pysplot/testing/lib/python3.9/site-packages (from blosc2>=2.3.0->tables>=3.4.4->viresclient->pyspedas) (1.1.0)\n",
      "Requirement already satisfied: zipp>=3.1.0 in /Users/mow1/projects/pysplot/testing/lib/python3.9/site-packages (from importlib-resources>=3.2.0->matplotlib>=3.6.2->pytplot-mpl-temp>=2.2.50->pyspedas) (3.21.0)\n"
     ]
    }
   ],
   "source": [
    "## install if not present\n",
    "### !pip install pyspedas"
   ]
  },
  {
   "cell_type": "code",
   "execution_count": null,
   "metadata": {},
   "outputs": [],
   "source": []
  },
  {
   "cell_type": "code",
   "execution_count": 10,
   "metadata": {},
   "outputs": [],
   "source": [
    "from sunpy.coordinates import GeocentricSolarEcliptic\n",
    "import astropy.coordinates\n",
    "import astropy.units as u\n",
    "import pyspedas\n",
    "\n",
    "from pysplot.io.data import SpatialData, ScienceData, SpatialTimeData"
   ]
  },
  {
   "cell_type": "markdown",
   "metadata": {},
   "source": [
    "### Step 1: Create SpatialData and ScienceData object\n",
    "\n",
    "Here we will step through an example of splotting MMS data for one month.\n",
    "\n",
    "SpatialData is an object containing information on the location of the spacecraft.\n",
    "SpatialData expects data to be fed in with a dictionary where 'x' is a list of epochs in datetime format and 'y' contains the values.\n",
    "If you use `pyspedas` to retrieve the data, the data will output in the correct format if the keyword `notplot=True`. Otherwise, you could read in the data however you like and make sure the input dictionary contains 'x' and 'y' in the same format.\n",
    "\n",
    "Splot is designed work with `sunpy` and `astropy`, especially the coordinate frames and units."
   ]
  },
  {
   "cell_type": "code",
   "execution_count": 2,
   "metadata": {},
   "outputs": [
    {
     "name": "stderr",
     "output_type": "stream",
     "text": [
      "16-Jan-25 19:51:26: Loading pydata/mms1/mec/srvy/l2/epht89q/2020/01/mms1_mec_srvy_l2_epht89q_20200101_v2.2.0.cdf\n",
      "16-Jan-25 19:51:26: Loading pydata/mms1/mec/srvy/l2/epht89q/2020/01/mms1_mec_srvy_l2_epht89q_20200102_v2.2.0.cdf\n",
      "16-Jan-25 19:51:26: Loading pydata/mms1/mec/srvy/l2/epht89q/2020/01/mms1_mec_srvy_l2_epht89q_20200103_v2.2.0.cdf\n",
      "16-Jan-25 19:51:26: Loading pydata/mms1/mec/srvy/l2/epht89q/2020/01/mms1_mec_srvy_l2_epht89q_20200104_v2.2.0.cdf\n",
      "16-Jan-25 19:51:26: Floating point data values for variable mms1_mec_loss_cone_angle_s are all fillval (-1.000000e+31)\n",
      "16-Jan-25 19:51:26: Floating point data values for variable mms1_mec_loss_cone_angle_n are all fillval (-1.000000e+31)\n",
      "16-Jan-25 19:51:26: Floating point data values for variable mms1_mec_pfs_geod_latlon are all fillval (-1.000000e+31)\n",
      "16-Jan-25 19:51:26: Floating point data values for variable mms1_mec_pfn_geod_latlon are all fillval (-1.000000e+31)\n",
      "16-Jan-25 19:51:26: Floating point data values for variable mms1_mec_pfs_gsm are all fillval (-1.000000e+31)\n",
      "16-Jan-25 19:51:26: Floating point data values for variable mms1_mec_bfs_gsm are all fillval (-1.000000e+31)\n",
      "16-Jan-25 19:51:26: Floating point data values for variable mms1_mec_pfn_gsm are all fillval (-1.000000e+31)\n",
      "16-Jan-25 19:51:26: Floating point data values for variable mms1_mec_bfn_gsm are all fillval (-1.000000e+31)\n",
      "16-Jan-25 19:51:26: Floating point data values for variable mms1_mec_pmin_gsm are all fillval (-1.000000e+31)\n",
      "16-Jan-25 19:51:26: Floating point data values for variable mms1_mec_bmin_gsm are all fillval (-1.000000e+31)\n",
      "16-Jan-25 19:51:27: Floating point data values for variable mms1_mec_loss_cone_angle_s are all fillval (-1.000000e+31)\n",
      "16-Jan-25 19:51:27: Floating point data values for variable mms1_mec_loss_cone_angle_n are all fillval (-1.000000e+31)\n",
      "16-Jan-25 19:51:27: Floating point data values for variable mms1_mec_pfs_geod_latlon are all fillval (-1.000000e+31)\n",
      "16-Jan-25 19:51:27: Floating point data values for variable mms1_mec_pfn_geod_latlon are all fillval (-1.000000e+31)\n",
      "16-Jan-25 19:51:27: Floating point data values for variable mms1_mec_pfs_gsm are all fillval (-1.000000e+31)\n",
      "16-Jan-25 19:51:27: Floating point data values for variable mms1_mec_bfs_gsm are all fillval (-1.000000e+31)\n",
      "16-Jan-25 19:51:27: Floating point data values for variable mms1_mec_pfn_gsm are all fillval (-1.000000e+31)\n",
      "16-Jan-25 19:51:27: Floating point data values for variable mms1_mec_bfn_gsm are all fillval (-1.000000e+31)\n",
      "16-Jan-25 19:51:27: Floating point data values for variable mms1_mec_pmin_gsm are all fillval (-1.000000e+31)\n",
      "16-Jan-25 19:51:27: Floating point data values for variable mms1_mec_bmin_gsm are all fillval (-1.000000e+31)\n"
     ]
    },
    {
     "data": {
      "text/plain": [
       "{'x': array(['2020-01-01T00:00:00.000000000', '2020-01-01T00:00:30.000000000',\n",
       "        '2020-01-01T00:01:00.000000000', ...,\n",
       "        '2020-01-04T23:58:30.000000000', '2020-01-04T23:59:00.000000000',\n",
       "        '2020-01-04T23:59:30.000000000'], dtype='datetime64[ns]'),\n",
       " 'y': array([[-103022.14797985,  -22630.7481424 ,    6293.65967293],\n",
       "        [-103114.89881914,  -22439.35411279,    6286.36814742],\n",
       "        [-103207.2737431 ,  -22247.65570303,    6279.07470234],\n",
       "        ...,\n",
       "        [-145969.04484364,  -55461.11615224,   -4884.96048988],\n",
       "        [-146106.8419048 ,  -55165.44524281,   -4892.73738136],\n",
       "        [-146244.03003486,  -54869.43150151,   -4900.51379811]])}"
      ]
     },
     "execution_count": 2,
     "metadata": {},
     "output_type": "execute_result"
    }
   ],
   "source": [
    "mms_mec_data = pyspedas.projects.mms.mms_load_mec(trange=['2020-01-01', '2020-01-05'], notplot=True)\n",
    "spatial_data = mms_mec_data['mms1_mec_r_geo']\n",
    "spatial_data"
   ]
  },
  {
   "cell_type": "code",
   "execution_count": 3,
   "metadata": {},
   "outputs": [],
   "source": [
    "\n",
    "spatial_data_obj = SpatialData(spatial_data, coord=astropy.coordinates.ITRS, units=u.km, spatial_columns_names=['x_r_geo', 'y_r_geo', 'z_r_geo'], coord_kwargs={'representation_type':'cartesian'})"
   ]
  },
  {
   "cell_type": "code",
   "execution_count": 4,
   "metadata": {},
   "outputs": [
    {
     "name": "stdout",
     "output_type": "stream",
     "text": [
      "                           x_r_geo       y_r_geo      z_r_geo\n",
      "2020-01-01 00:00:00 -103022.147980 -22630.748142  6293.659673\n",
      "2020-01-01 00:00:30 -103114.898819 -22439.354113  6286.368147\n",
      "2020-01-01 00:01:00 -103207.273743 -22247.655703  6279.074702\n",
      "2020-01-01 00:01:30 -103299.271825 -22055.653658  6271.779326\n",
      "2020-01-01 00:02:00 -103390.892258 -21863.348797  6264.482051\n",
      "2020-01-01 00:02:30 -103482.134260 -21670.741971  6257.182879\n",
      "2020-01-01 00:03:00 -103572.996908 -21477.833917  6249.881817\n",
      "2020-01-01 00:03:30 -103663.479339 -21284.625433  6242.578875\n",
      "2020-01-01 00:04:00 -103753.580509 -21091.117304  6235.274052\n",
      "2020-01-01 00:04:30 -103843.299833 -20897.310501  6227.967312\n",
      "coordinates <class 'astropy.coordinates.builtin_frames.itrs.ITRS'>\n",
      "units km\n"
     ]
    }
   ],
   "source": [
    "print(spatial_data_obj.data.head(10))\n",
    "print('coordinates', spatial_data_obj.coord)\n",
    "print('units', spatial_data_obj.units)"
   ]
  },
  {
   "cell_type": "markdown",
   "metadata": {},
   "source": [
    "## Science Data\n",
    "\n",
    "Most of the time, you also want to consider some scientific data to go along with the spatial data for plotting. Here's how you would initialize the `ScienceData` object, similar to `SpatialData`.\n",
    "\n",
    "We'll pull magnetic field from the MMS FGM instrument for the same time period and initialize our `ScienceData` object."
   ]
  },
  {
   "cell_type": "code",
   "execution_count": 5,
   "metadata": {},
   "outputs": [
    {
     "name": "stderr",
     "output_type": "stream",
     "text": [
      "16-Jan-25 19:51:31: Loading pydata/mms1/fgm/srvy/l2/2020/01/mms1_fgm_srvy_l2_20200101_v5.224.0.cdf\n",
      "16-Jan-25 19:51:31: Loading pydata/mms1/fgm/srvy/l2/2020/01/mms1_fgm_srvy_l2_20200102_v5.224.0.cdf\n",
      "16-Jan-25 19:51:31: Loading pydata/mms1/fgm/srvy/l2/2020/01/mms1_fgm_srvy_l2_20200103_v5.224.0.cdf\n",
      "16-Jan-25 19:51:31: Loading pydata/mms1/fgm/srvy/l2/2020/01/mms1_fgm_srvy_l2_20200104_v5.226.0.cdf\n"
     ]
    },
    {
     "data": {
      "text/plain": [
       "{'x': array(['2020-01-01T00:00:02.648887922', '2020-01-01T00:00:02.711388827',\n",
       "        '2020-01-01T00:00:02.773889732', ...,\n",
       "        '2020-01-05T00:00:14.645025203', '2020-01-05T00:00:14.770026980',\n",
       "        '2020-01-05T00:00:14.895028757'], dtype='datetime64[ns]'),\n",
       " 'y': array([[ -2.575452 ,   4.1985846, -22.964613 ,  23.486898 ],\n",
       "        [ -2.6951935,   2.5182579, -22.603752 ,  22.902735 ],\n",
       "        [ -3.485547 ,   0.6691314, -22.953402 ,  23.226177 ],\n",
       "        ...,\n",
       "        [  2.6056378,  -8.73475  ,  -0.8176866,   9.151711 ],\n",
       "        [  2.618569 ,  -8.728434 ,  -0.8134932,   9.149002 ],\n",
       "        [  2.6257954,  -8.727181 ,  -0.8250758,   9.150915 ]],\n",
       "       dtype=float32)}"
      ]
     },
     "execution_count": 5,
     "metadata": {},
     "output_type": "execute_result"
    }
   ],
   "source": [
    "mms_fgm_data = pyspedas.projects.mms.mms_load_fgm(trange=['2020-01-01', '2020-01-05'], notplot=True)\n",
    "science_data = mms_fgm_data['mms1_fgm_b_gse_srvy_l2']\n",
    "science_data\n"
   ]
  },
  {
   "cell_type": "code",
   "execution_count": 6,
   "metadata": {},
   "outputs": [],
   "source": [
    "science_data_obj = ScienceData(science_data, units=1e-9*u.T, science_columns_names=['Bx_GSE', 'By_GSE', 'Bz_GSE'])"
   ]
  },
  {
   "cell_type": "code",
   "execution_count": 7,
   "metadata": {},
   "outputs": [
    {
     "name": "stdout",
     "output_type": "stream",
     "text": [
      "                                 Bx_GSE    By_GSE     Bz_GSE\n",
      "2020-01-01 00:00:02.648887922 -2.575452  4.198585 -22.964613\n",
      "2020-01-01 00:00:02.711388827 -2.695194  2.518258 -22.603752\n",
      "2020-01-01 00:00:02.773889732 -3.485547  0.669131 -22.953402\n",
      "2020-01-01 00:00:02.836390638 -3.912055 -1.209539 -24.060274\n",
      "2020-01-01 00:00:02.898891543 -3.625044 -1.266421 -24.118010\n",
      "2020-01-01 00:00:02.961392449 -3.110532 -2.144957 -25.306442\n",
      "2020-01-01 00:00:03.023893354 -4.032660 -2.470277 -27.366508\n",
      "2020-01-01 00:00:03.086394260 -4.361229 -1.059933 -27.157602\n",
      "2020-01-01 00:00:03.148895165 -3.582466  1.038460 -27.104290\n",
      "2020-01-01 00:00:03.211396070 -2.496563  1.200684 -26.587170\n",
      "units 1e-09 T\n"
     ]
    }
   ],
   "source": [
    "print(science_data_obj.data.head(10))\n",
    "print('units', science_data_obj.units)"
   ]
  },
  {
   "cell_type": "markdown",
   "metadata": {},
   "source": [
    "## Create the combined data\n",
    "\n",
    "Now that you have both `SpatialData` and `ScienceData` initialized, you can combine them into an object for splotting (`SpatialTimeData`).\n",
    "\n",
    "The spatial data was in GEO coordinates; however the science data was pulled in GSE coordinates. To rectify that, we can convert the spatial data to GSE to match the science data by with the `desired_coord` argument.\n"
   ]
  },
  {
   "cell_type": "code",
   "execution_count": 8,
   "metadata": {},
   "outputs": [],
   "source": [
    "splot_data_obj = SpatialTimeData(spatial_data_obj, science=science_data_obj, desired_units=1e-9*u.T, desired_coord=GeocentricSolarEcliptic, desired_coord_kwargs={'representation_type':'cartesian'})"
   ]
  },
  {
   "cell_type": "code",
   "execution_count": 9,
   "metadata": {},
   "outputs": [
    {
     "name": "stdout",
     "output_type": "stream",
     "text": [
      "                                     lon        lat       distance    Bx_GSE  \\\n",
      "2020-01-01 00:00:02.648887922  14.910629  24.924501  105666.208298 -2.575452   \n",
      "2020-01-01 00:00:02.711388827  14.910658  24.924483  105666.320388 -2.695193   \n",
      "2020-01-01 00:00:02.773889732  14.910687  24.924466  105666.432477 -3.485547   \n",
      "2020-01-01 00:00:02.836390638  14.910716  24.924448  105666.544567 -3.912054   \n",
      "2020-01-01 00:00:02.898891543  14.910745  24.924431  105666.656656 -3.625044   \n",
      "2020-01-01 00:00:02.961392449  14.910774  24.924413  105666.768746 -3.110531   \n",
      "2020-01-01 00:00:03.023893354  14.910803  24.924396  105666.880835 -4.032660   \n",
      "2020-01-01 00:00:03.086394260  14.910832  24.924378  105666.992925 -4.361229   \n",
      "2020-01-01 00:00:03.148895165  14.910861  24.924361  105667.105014 -3.582466   \n",
      "2020-01-01 00:00:03.211396070  14.910890  24.924344  105667.217104 -2.496563   \n",
      "\n",
      "                                 By_GSE     Bz_GSE  \n",
      "2020-01-01 00:00:02.648887922  4.198585 -22.964611  \n",
      "2020-01-01 00:00:02.711388827  2.518258 -22.603752  \n",
      "2020-01-01 00:00:02.773889732  0.669131 -22.953402  \n",
      "2020-01-01 00:00:02.836390638 -1.209539 -24.060274  \n",
      "2020-01-01 00:00:02.898891543 -1.266421 -24.118010  \n",
      "2020-01-01 00:00:02.961392449 -2.144957 -25.306442  \n",
      "2020-01-01 00:00:03.023893354 -2.470277 -27.366507  \n",
      "2020-01-01 00:00:03.086394260 -1.059933 -27.157602  \n",
      "2020-01-01 00:00:03.148895165  1.038460 -27.104288  \n",
      "2020-01-01 00:00:03.211396070  1.200684 -26.587168  \n",
      "splot spatial columns Index(['lon', 'lat', 'distance'], dtype='object')\n",
      "splot coord <class 'sunpy.coordinates.frames.GeocentricSolarEcliptic'>\n",
      "splot science columns Index(['Bx_GSE', 'By_GSE', 'Bz_GSE'], dtype='object')\n",
      "splot units 1e-09 T\n"
     ]
    }
   ],
   "source": [
    "\n",
    "print(splot_data_obj.data.head(10))\n",
    "print('splot spatial columns', splot_data_obj.spatial_columns)\n",
    "print('splot coord', splot_data_obj.coord)\n",
    "print('splot science columns', splot_data_obj.science_columns)\n",
    "print('splot units', splot_data_obj.units)\n"
   ]
  },
  {
   "cell_type": "markdown",
   "metadata": {},
   "source": [
    "## TBD: Example of spatiotemporal plotting using SpatialTimeData object"
   ]
  },
  {
   "cell_type": "markdown",
   "metadata": {},
   "source": [
    "#### Transform from one coordinate frame to another\n",
    "\n",
    "Since we used sunpy coordinate system to define the splot data spatial frame, we can use the underlying functionality of sunpy to transform the spatial coordinate from one frame to another. For example, we are currently in GeocentricSolarEcliptic with coordinate units in km, but we can transform the splot merged data to be presented in Geocentric Solar Magnetospheric frame with units of AU instead. Note that sunpy coordinate transformations can be very timely if the observing time is required to calculate the location of the Sun and Earth."
   ]
  },
  {
   "cell_type": "code",
   "execution_count": 17,
   "metadata": {},
   "outputs": [
    
   ],
   "source": [
    "## TODO: make this work\n",
    "#splot_data_obj.transform_coord(Geomagnetic, desired_units=u.AU)\n",
    "#splot_data_obj.data"
   ]
  },
  {
   "cell_type": "markdown",
   "metadata": {},
   "source": []
  }
 ],
 "metadata": {
  "language_info": {
   "name": "python"
  }
 },
 "nbformat": 4,
 "nbformat_minor": 2
}
